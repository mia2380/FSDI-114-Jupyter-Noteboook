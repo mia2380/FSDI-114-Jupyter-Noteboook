{
 "cells": [
  {
   "cell_type": "code",
   "execution_count": 1,
   "id": "54f220e1",
   "metadata": {},
   "outputs": [],
   "source": [
    "class Queue:\n",
    "    def __init__(self):\n",
    "        self.items = []\n",
    "        \n",
    "    def enqueue(self, element):\n",
    "        self.items.append(element)\n",
    "    \n",
    "    def dequeue(self):\n",
    "        return self.items.pop(0)\n",
    "    \n",
    "    # nice to have\n",
    "    \n",
    "    def size(self):\n",
    "        return len(self.items)\n",
    "    \n",
    "    def is_empty(self):\n",
    "        return self.items == []\n",
    "    \n",
    "    def peek(self):\n",
    "        return self.items[len(self.items)-1]\n",
    "    \n",
    "    def __len__(self):\n",
    "        return self.size()"
   ]
  },
  {
   "cell_type": "code",
   "execution_count": 5,
   "id": "51af9d02",
   "metadata": {},
   "outputs": [
    {
     "name": "stdout",
     "output_type": "stream",
     "text": [
      "0\n",
      "1\n",
      "2\n",
      "3\n",
      "4\n",
      "5\n",
      "6\n",
      "7\n",
      "8\n",
      "9\n",
      "10\n"
     ]
    }
   ],
   "source": [
    "x = [i for i in range(11)]\n",
    "\n",
    "def delay_items(mylist):\n",
    "    myqueue = Queue()\n",
    "    for number in mylist:\n",
    "        myqueue.enqueue(number)\n",
    "        while not myqueue.is_empty():\n",
    "            print(myqueue.dequeue())\n",
    "            \n",
    "delay_items(x)"
   ]
  },
  {
   "cell_type": "code",
   "execution_count": 8,
   "id": "7987c7b7",
   "metadata": {},
   "outputs": [],
   "source": [
    "class Node:\n",
    "    def __init__(self, data):\n",
    "        self.data = data\n",
    "        self.prev = None\n",
    "\n",
    "class Queue:\n",
    "    def __init__(self):\n",
    "        self.front = None\n",
    "\n",
    "    def enqueue(self, element):\n",
    "        if self.front != None:\n",
    "            current = self.front\n",
    "            while current.prev:\n",
    "                current = current.prev\n",
    "            current.prev = Node(element)\n",
    "        else:\n",
    "            self.front = Node(element)\n",
    "            \n",
    "\n",
    "    def dequeue(self):\n",
    "        if self.front:\n",
    "            output = self.front.data\n",
    "            self.front = self.front.prev\n",
    "            return output\n",
    "        return None\n"
   ]
  },
  {
   "cell_type": "code",
   "execution_count": 12,
   "id": "f940fadd",
   "metadata": {},
   "outputs": [
    {
     "name": "stdout",
     "output_type": "stream",
     "text": [
      "[]\n"
     ]
    }
   ],
   "source": [
    "x = []\n",
    "print(x)"
   ]
  },
  {
   "cell_type": "code",
   "execution_count": 14,
   "id": "2cc45038",
   "metadata": {},
   "outputs": [],
   "source": [
    "class Node:\n",
    "    def __init__(self, data):\n",
    "        self.data = data\n",
    "        self.next = None\n",
    "        \n",
    "class SinglyLinkedList:\n",
    "    def __init__(self):\n",
    "        self.head = None\n",
    "        \n",
    "    def append(self, element):\n",
    "        new_node = Node(element)\n",
    "        if self.head:\n",
    "            current = self.head\n",
    "            while current.next:\n",
    "                current = current.next\n",
    "            current.next = new_node\n",
    "        else:\n",
    "            self.head = new_node\n",
    "    \n",
    "    def __str__(self):\n",
    "        current = self.head\n",
    "        output_str = \"[ %s\" % current.data\n",
    "        while current:\n",
    "            current = current.next\n",
    "            if current:\n",
    "                output_str += \", %s\" % current.data\n",
    "            output_str = \"]\"\n",
    "            return output_str"
   ]
  },
  {
   "cell_type": "code",
   "execution_count": null,
   "id": "2c511b01",
   "metadata": {},
   "outputs": [],
   "source": []
  }
 ],
 "metadata": {
  "kernelspec": {
   "display_name": "Python 3 (ipykernel)",
   "language": "python",
   "name": "python3"
  },
  "language_info": {
   "codemirror_mode": {
    "name": "ipython",
    "version": 3
   },
   "file_extension": ".py",
   "mimetype": "text/x-python",
   "name": "python",
   "nbconvert_exporter": "python",
   "pygments_lexer": "ipython3",
   "version": "3.11.0"
  }
 },
 "nbformat": 4,
 "nbformat_minor": 5
}
