{
 "cells": [
  {
   "cell_type": "code",
   "execution_count": 10,
   "id": "e2a40150",
   "metadata": {},
   "outputs": [],
   "source": [
    "class Stack:\n",
    "    def __init__(self):\n",
    "        self.items = []\n",
    "        \n",
    "    def push(self, element):\n",
    "        self.items.append(element)\n",
    "        \n",
    "    def pop(self):\n",
    "        return self.items.pop()\n",
    "    \n",
    "    # nice to have:\n",
    "    \n",
    "    def is_empty(self):\n",
    "        return self.items == []\n",
    "    \n",
    "    def peek(self):\n",
    "        return self.items[len(self.items)-1]\n",
    "    \n",
    "    def size(self):\n",
    "        return len(self.items)\n",
    "    \n",
    "    def __len__(self):\n",
    "        return self.size()\n",
    "    "
   ]
  },
  {
   "cell_type": "code",
   "execution_count": 11,
   "id": "1ce45fbe",
   "metadata": {},
   "outputs": [
    {
     "data": {
      "text/plain": [
       "'adnerB'"
      ]
     },
     "execution_count": 11,
     "metadata": {},
     "output_type": "execute_result"
    }
   ],
   "source": [
    "# use a stack to invert a string:\n",
    "\n",
    "mystring = \"Brenda\"\n",
    "\n",
    "def invert(str_param):\n",
    "    stack = Stack()\n",
    "    for letter in str_param:\n",
    "        stack.push(letter)\n",
    "    out = \"\"\n",
    "    while not stack.is_empty():\n",
    "        out += stack.pop()\n",
    "    return out\n",
    "\n",
    "invert(mystring)"
   ]
  },
  {
   "cell_type": "code",
   "execution_count": 12,
   "id": "90376df7",
   "metadata": {},
   "outputs": [
    {
     "name": "stdout",
     "output_type": "stream",
     "text": [
      "5\n"
     ]
    }
   ],
   "source": [
    "# Pass by value:\n",
    "# Primary data types: int, float, bool\n",
    "# These always pass by \"value\"\n",
    "\n",
    "x = 5\n",
    "y = x\n",
    "\n",
    "x = x + 1\n",
    "\n",
    "print(y)"
   ]
  },
  {
   "cell_type": "code",
   "execution_count": 13,
   "id": "d7f1b51a",
   "metadata": {},
   "outputs": [
    {
     "name": "stdout",
     "output_type": "stream",
     "text": [
      "[1, 2, 3, 4, 5, 6]\n"
     ]
    }
   ],
   "source": [
    "# Pass by reference:\n",
    "# All data structures, objects, etc\n",
    "# These always pass by \"reference\":\n",
    "\n",
    "x = [1, 2, 3, 4, 5]\n",
    "\n",
    "y = x\n",
    "\n",
    "x.append(6)\n",
    "\n",
    "print(y)\n"
   ]
  },
  {
   "cell_type": "code",
   "execution_count": 19,
   "id": "e5ee5c0c",
   "metadata": {},
   "outputs": [],
   "source": [
    "\n",
    "class Node:\n",
    "    def __init__(self, data):\n",
    "        self.data = data\n",
    "        self.above = None\n",
    "        \n",
    "class Stack:\n",
    "    def __init__(self):\n",
    "        self.base = None\n",
    "    \n",
    "    def push(self, element):\n",
    "        new_node = Node(element)\n",
    "        if self.base == None:\n",
    "            self.base = new_node\n",
    "        else:\n",
    "            current = self.base\n",
    "            while current.above:     # shorthand for \"while current.above != None\"\n",
    "                current = current.above\n",
    "            current.above = new_node\n",
    "            \n",
    "    def pop(self):\n",
    "        if self.base: # shorthand for \"if self.base != None\"\n",
    "            current = self.base\n",
    "            prev = None\n",
    "            while current.above:\n",
    "                prev = current\n",
    "                current = current.above\n",
    "            value = current.data\n",
    "            if not prev:        # shorthand if previous = None\n",
    "                self.base = None\n",
    "            else:\n",
    "                prev.above = None\n",
    "            return value\n",
    "        raise IndexError(\"Stack is empty\")\n",
    "        \n",
    "    def is_empty(self):\n",
    "        pass\n",
    "    \n",
    "    def size(self):\n",
    "        pass\n",
    "    \n",
    "    def peek(self):\n",
    "        pass"
   ]
  },
  {
   "cell_type": "code",
   "execution_count": 20,
   "id": "914e6e29",
   "metadata": {},
   "outputs": [
    {
     "name": "stdout",
     "output_type": "stream",
     "text": [
      "5\n",
      "4\n",
      "3\n",
      "2\n",
      "1\n",
      "0\n"
     ]
    }
   ],
   "source": [
    "stack = Stack()\n",
    "\n",
    "for number in range(6):\n",
    "    stack.push(number)\n",
    "    \n",
    "for _ in range(6):\n",
    "    out = stack.pop()\n",
    "    print(out)"
   ]
  },
  {
   "cell_type": "code",
   "execution_count": null,
   "id": "2d5c2617",
   "metadata": {},
   "outputs": [],
   "source": []
  }
 ],
 "metadata": {
  "kernelspec": {
   "display_name": "Python 3 (ipykernel)",
   "language": "python",
   "name": "python3"
  },
  "language_info": {
   "codemirror_mode": {
    "name": "ipython",
    "version": 3
   },
   "file_extension": ".py",
   "mimetype": "text/x-python",
   "name": "python",
   "nbconvert_exporter": "python",
   "pygments_lexer": "ipython3",
   "version": "3.11.0"
  }
 },
 "nbformat": 4,
 "nbformat_minor": 5
}
