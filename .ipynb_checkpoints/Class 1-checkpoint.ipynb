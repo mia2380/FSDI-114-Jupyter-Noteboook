{
 "cells": [
  {
   "cell_type": "code",
   "execution_count": 1,
   "id": "00dd44fb",
   "metadata": {},
   "outputs": [
    {
     "name": "stdout",
     "output_type": "stream",
     "text": [
      "H\n",
      "e\n",
      "l\n",
      "l\n",
      "o\n",
      ",\n",
      " \n",
      "w\n",
      "o\n",
      "r\n",
      "l\n",
      "d\n",
      "!\n"
     ]
    }
   ],
   "source": [
    "for letter in \"Hello, world!\":\n",
    "    print(letter)"
   ]
  },
  {
   "cell_type": "code",
   "execution_count": 12,
   "id": "b1365f7b",
   "metadata": {},
   "outputs": [],
   "source": [
    "def are_anagrams(string_a, string_b):\n",
    "    string_a = string_a.replace(\" \", \"\").lower()\n",
    "    string_b = string_b.replace(\" \", \"\").lower()\n",
    "\n",
    "    if len(string_a) != len(string_b):\n",
    "        return False\n",
    "    dict_a = dict()\n",
    "    dict_b = dict()\n",
    "    for index in range(len(string_a)):\n",
    "        if string_a[index] in dict_a.keys():\n",
    "            dict_a[string_a[index]] += 1\n",
    "        else:\n",
    "            dict_a[string_a[index]] = 1\n",
    "        if string_b[index] in dict_b.keys():\n",
    "            dict_b[string_b[index]] += 1\n",
    "        else:\n",
    "            dict_b[string_b[index]] = 1\n",
    "    return dict_a == dict_b"
   ]
  },
  {
   "cell_type": "code",
   "execution_count": 4,
   "id": "426fc866",
   "metadata": {},
   "outputs": [
    {
     "data": {
      "text/plain": [
       "True"
      ]
     },
     "execution_count": 4,
     "metadata": {},
     "output_type": "execute_result"
    }
   ],
   "source": [
    "are_anagrams(\"heart\", \"earth\")"
   ]
  },
  {
   "cell_type": "code",
   "execution_count": 17,
   "id": "54559552",
   "metadata": {},
   "outputs": [
    {
     "data": {
      "text/plain": [
       "False"
      ]
     },
     "execution_count": 17,
     "metadata": {},
     "output_type": "execute_result"
    }
   ],
   "source": [
    "are_anagrams(\"I am Lord Voldemore\", \"Tom Marvolo Riddle\")"
   ]
  },
  {
   "cell_type": "code",
   "execution_count": 14,
   "id": "a272aa74",
   "metadata": {},
   "outputs": [],
   "source": [
    "def are_anagrams(string_a, string_b):\n",
    "    if len(string_a) != len(string_b):\n",
    "        return False\n",
    "    dict_a = dict()\n",
    "    dict_b = dict()\n",
    "    for index in range(len(string_a)):\n",
    "        if string_a[index] in dict_a.keys():\n",
    "            dict_a[string_a[index]] += 1\n",
    "        else:\n",
    "            dict_a[string_a[index]] = 1\n",
    "        if string_b[index] in dict_b.keys():\n",
    "            dict_b[string_b[index]] += 1\n",
    "        else:\n",
    "            dict_b[string_b[index]] = 1\n",
    "    return dict_a == dict_b"
   ]
  },
  {
   "cell_type": "code",
   "execution_count": 9,
   "id": "39d23da0",
   "metadata": {},
   "outputs": [
    {
     "data": {
      "text/plain": [
       "False"
      ]
     },
     "execution_count": 9,
     "metadata": {},
     "output_type": "execute_result"
    }
   ],
   "source": [
    "are_anagrams(\"I am Lord Voldemore\", \"Tom Marvolo Riddle\")"
   ]
  },
  {
   "cell_type": "code",
   "execution_count": 16,
   "id": "11e80acf",
   "metadata": {},
   "outputs": [],
   "source": [
    "def are_anagrams(string_a, string_b):\n",
    "    string_a = string_a.replace(\" \", \"\").lower()\n",
    "    string_b = string_b.replace(\" \", \"\").lower()\n",
    "\n",
    "    return sorted(string_a) == sorted(string_b)\n"
   ]
  },
  {
   "cell_type": "code",
   "execution_count": 15,
   "id": "cfacd98c",
   "metadata": {},
   "outputs": [
    {
     "data": {
      "text/plain": [
       "False"
      ]
     },
     "execution_count": 15,
     "metadata": {},
     "output_type": "execute_result"
    }
   ],
   "source": [
    "are_anagrams(\"I am Lord Voldemore\", \"Tom Marvolo Riddle\")"
   ]
  },
  {
   "cell_type": "code",
   "execution_count": null,
   "id": "0062886c",
   "metadata": {},
   "outputs": [],
   "source": []
  }
 ],
 "metadata": {
  "kernelspec": {
   "display_name": "Python 3 (ipykernel)",
   "language": "python",
   "name": "python3"
  },
  "language_info": {
   "codemirror_mode": {
    "name": "ipython",
    "version": 3
   },
   "file_extension": ".py",
   "mimetype": "text/x-python",
   "name": "python",
   "nbconvert_exporter": "python",
   "pygments_lexer": "ipython3",
   "version": "3.11.0"
  }
 },
 "nbformat": 4,
 "nbformat_minor": 5
}
